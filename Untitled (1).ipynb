{
 "cells": [
  {
   "cell_type": "code",
   "execution_count": 78,
   "id": "678927e9",
   "metadata": {},
   "outputs": [
    {
     "name": "stdout",
     "output_type": "stream",
     "text": [
      "[{'id': 0, 'name': 'Hero'}, {'id': 1, 'name': 'Jack'}, {'id': 2, 'name': 'lv'}, {'id': 3, 'name': 'Haisi'}]\n"
     ]
    }
   ],
   "source": [
    "users = [\n",
    "    {\"id\": 0, \"name\": \"Hero\"},\n",
    "    {\"id\": 1, \"name\": \"Jack\"},\n",
    "    {\"id\": 2, \"name\": \"lv\"},\n",
    "    {\"id\": 3, \"name\": \"Haisi\"},\n",
    "]\n",
    "\n",
    "print(users)"
   ]
  },
  {
   "cell_type": "code",
   "execution_count": 79,
   "id": "0fbfc218",
   "metadata": {},
   "outputs": [],
   "source": [
    "friendships = [(0, 1), (0, 2), (2, 3)]"
   ]
  },
  {
   "cell_type": "code",
   "execution_count": 80,
   "id": "603948e5",
   "metadata": {},
   "outputs": [
    {
     "name": "stdout",
     "output_type": "stream",
     "text": [
      "{'id': 0, 'name': 'Hero', 'friends': []}\n",
      "{'id': 1, 'name': 'Jack', 'friends': []}\n",
      "{'id': 2, 'name': 'lv', 'friends': []}\n",
      "{'id': 3, 'name': 'Haisi', 'friends': []}\n"
     ]
    }
   ],
   "source": [
    "for user in users:\n",
    "    user[\"friends\"] = []\n",
    "    print(user)"
   ]
  },
  {
   "cell_type": "code",
   "execution_count": 81,
   "id": "958ed3fd",
   "metadata": {},
   "outputs": [
    {
     "name": "stdout",
     "output_type": "stream",
     "text": [
      "[{'id': 0, 'name': 'Hero', 'friends': [1, 2]}, {'id': 1, 'name': 'Jack', 'friends': [0]}, {'id': 2, 'name': 'lv', 'friends': [0, 3]}, {'id': 3, 'name': 'Haisi', 'friends': [2]}]\n"
     ]
    }
   ],
   "source": [
    "for i, j in friendships:\n",
    "    users[i][\"friends\"].append(j)\n",
    "    users[j][\"friends\"].append(i)\n",
    "    # both friend and take note\n",
    "    \n",
    "print(users)"
   ]
  },
  {
   "cell_type": "code",
   "execution_count": 82,
   "id": "c7cf9a71",
   "metadata": {},
   "outputs": [],
   "source": [
    "def num_of_friends(user):\n",
    "    return len(user[\"friends\"])"
   ]
  },
  {
   "cell_type": "code",
   "execution_count": 163,
   "id": "c7898466",
   "metadata": {},
   "outputs": [
    {
     "data": {
      "text/plain": [
       "2"
      ]
     },
     "execution_count": 163,
     "metadata": {},
     "output_type": "execute_result"
    }
   ],
   "source": [
    "num_of_friends(users[2])\n",
    "# show user1's num of friend"
   ]
  },
  {
   "cell_type": "code",
   "execution_count": 84,
   "id": "24aadbba",
   "metadata": {},
   "outputs": [
    {
     "name": "stdout",
     "output_type": "stream",
     "text": [
      "6\n"
     ]
    }
   ],
   "source": [
    "total_connections = sum(num_of_friends(user)\n",
    "                       for user in users)\n",
    "\n",
    "print(total_connections)"
   ]
  },
  {
   "cell_type": "code",
   "execution_count": 85,
   "id": "abfb8e8e",
   "metadata": {},
   "outputs": [
    {
     "name": "stdout",
     "output_type": "stream",
     "text": [
      "4\n"
     ]
    }
   ],
   "source": [
    "# record num of user\n",
    "num_users = len(users)\n",
    "print(num_users)"
   ]
  },
  {
   "cell_type": "code",
   "execution_count": 86,
   "id": "3c704a5b",
   "metadata": {},
   "outputs": [
    {
     "name": "stdout",
     "output_type": "stream",
     "text": [
      "1.5\n"
     ]
    }
   ],
   "source": [
    "# count average user connection\n",
    "avg_connection = total_connections/num_users\n",
    "print(avg_connection)"
   ]
  },
  {
   "cell_type": "code",
   "execution_count": 87,
   "id": "943df3e8",
   "metadata": {},
   "outputs": [],
   "source": [
    "num_friend_by_id = [(user[\"id\"], num_of_friends(user))\n",
    "                   for user in users]"
   ]
  },
  {
   "cell_type": "code",
   "execution_count": 88,
   "id": "fa68cf48",
   "metadata": {},
   "outputs": [
    {
     "name": "stdout",
     "output_type": "stream",
     "text": [
      "[(0, 2), (1, 1), (2, 2), (3, 1)]\n"
     ]
    }
   ],
   "source": [
    "print(num_friend_by_id)"
   ]
  },
  {
   "cell_type": "code",
   "execution_count": 89,
   "id": "353204d8",
   "metadata": {},
   "outputs": [
    {
     "name": "stdout",
     "output_type": "stream",
     "text": [
      "[(0, 2), (2, 2), (1, 1), (3, 1)]\n"
     ]
    }
   ],
   "source": [
    "## sort from most frind to less friend\n",
    "print(sorted(num_friend_by_id,\n",
    "            key=lambda item: item[1], reverse=True))"
   ]
  },
  {
   "cell_type": "markdown",
   "id": "eea63d15",
   "metadata": {},
   "source": [
    "## Find Friend's Friend"
   ]
  },
  {
   "cell_type": "code",
   "execution_count": 162,
   "id": "6b06c7a9",
   "metadata": {},
   "outputs": [
    {
     "name": "stdout",
     "output_type": "stream",
     "text": [
      "[3]\n"
     ]
    }
   ],
   "source": [
    "# print someone's friend\n",
    "from collections import Counter\n",
    "\n",
    "# for find some user's friend's friend\n",
    "def friend_of_friend(user):\n",
    "\n",
    "    return [ foaf\n",
    "          for friend in user[\"friends\"]\n",
    "          for foaf in users[friend][\"friends\"]\n",
    "        # filter the same people\n",
    "            # friend's friend include self so need to remove from array\n",
    "            if not_same(user, foaf) and\n",
    "            not_friend(user, foaf)\n",
    "           ]\n",
    "#     print(user, foaf)\n",
    "          \n",
    "\n",
    "     \n",
    "def not_same(user, other_user):\n",
    "#     print(\"Not same\", other_user)\n",
    "    return user[\"id\"] != users[other_user][\"id\"]\n",
    "\n",
    "def not_friend(user: dict, other_user: int):\n",
    "    \n",
    "        \n",
    "        for friends in user[\"friends\"]:\n",
    "#            print(\"not_friend:\", friends)\n",
    "           if friends == other_user:\n",
    "                return False\n",
    "        \n",
    "        return True\n",
    "        \n",
    "#     return [foaf[\"id\"]\n",
    "#                for friend in user[\"friends\"]\n",
    "#                for foaf in friend[\"friends\"]]\n",
    "\n",
    "print(friend_of_friend(users[0])) "
   ]
  },
  {
   "cell_type": "code",
   "execution_count": 148,
   "id": "f2e17ff1",
   "metadata": {},
   "outputs": [
    {
     "data": {
      "text/plain": [
       "False"
      ]
     },
     "execution_count": 148,
     "metadata": {},
     "output_type": "execute_result"
    }
   ],
   "source": [
    "users[0][\"id\"] != users[0][\"id\"]"
   ]
  },
  {
   "cell_type": "code",
   "execution_count": 91,
   "id": "b41bd4a0",
   "metadata": {},
   "outputs": [
    {
     "ename": "KeyError",
     "evalue": "'firends'",
     "output_type": "error",
     "traceback": [
      "\u001b[1;31m---------------------------------------------------------------------------\u001b[0m",
      "\u001b[1;31mKeyError\u001b[0m                                  Traceback (most recent call last)",
      "Cell \u001b[1;32mIn[91], line 1\u001b[0m\n\u001b[1;32m----> 1\u001b[0m \u001b[38;5;28;01mfor\u001b[39;00m friend \u001b[38;5;129;01min\u001b[39;00m user[\u001b[38;5;124m\"\u001b[39m\u001b[38;5;124mfirends\u001b[39m\u001b[38;5;124m\"\u001b[39m]:\n\u001b[0;32m      2\u001b[0m     \u001b[38;5;28mprint\u001b[39m(friend)\n",
      "\u001b[1;31mKeyError\u001b[0m: 'firends'"
     ]
    }
   ],
   "source": [
    "for friend in user[\"firends\"]:\n",
    "    print(friend)"
   ]
  },
  {
   "cell_type": "code",
   "execution_count": 93,
   "id": "fc45014e",
   "metadata": {},
   "outputs": [
    {
     "name": "stdout",
     "output_type": "stream",
     "text": [
      "{'id': 0, 'name': 'Hero', 'friends': [1, 2]}\n"
     ]
    }
   ],
   "source": [
    "print(users[0])"
   ]
  }
 ],
 "metadata": {
  "kernelspec": {
   "display_name": "Python 3 (ipykernel)",
   "language": "python",
   "name": "python3"
  },
  "language_info": {
   "codemirror_mode": {
    "name": "ipython",
    "version": 3
   },
   "file_extension": ".py",
   "mimetype": "text/x-python",
   "name": "python",
   "nbconvert_exporter": "python",
   "pygments_lexer": "ipython3",
   "version": "3.11.5"
  }
 },
 "nbformat": 4,
 "nbformat_minor": 5
}
